{
 "cells": [
  {
   "cell_type": "markdown",
   "metadata": {},
   "source": [
    "# Sequential Data"
   ]
  },
  {
   "cell_type": "markdown",
   "metadata": {},
   "source": [
    "- Points in the dataset are dependent on the other points in the dataset\n",
    "- Text is one of the most widespread forms of sequence data\n",
    "    - Understood as either a sequence of characters or a sequence of words\n",
    "    - common to work at the level of words"
   ]
  },
  {
   "cell_type": "markdown",
   "metadata": {},
   "source": [
    "### How to handle Sequential Data <br>\n",
    "- Since text aren't stateless and usually depends on some other parts of the text, feedforward neural networks can't effectively handle these types of data\n",
    "- Use Neural Network with internal memory i.e. Recurrent Neural Network (RNN)"
   ]
  },
  {
   "cell_type": "markdown",
   "metadata": {},
   "source": [
    "## Recurrent Neural Network"
   ]
  },
  {
   "cell_type": "markdown",
   "metadata": {},
   "source": [
    "- To generate text, past input is needed \n",
    "    - Saving the output of a layer and feeding it to the input to predict the output of the next layer\n",
    "- RNN $\\rightarrow$ Class of artificial neural networks that is powerful for modelling sequence data such as time series or natural language "
   ]
  },
  {
   "cell_type": "markdown",
   "metadata": {},
   "source": [
    "### How it handles sequential information \n",
    "- Implementation of Internal Memory \n",
    "<img src = './images/rnn.png' width=\"400\" height=\"400\">"
   ]
  },
  {
   "cell_type": "markdown",
   "metadata": {},
   "source": [
    "### Overview of RNN"
   ]
  },
  {
   "cell_type": "markdown",
   "metadata": {},
   "source": [
    "<img src = 'https://www.simplilearn.com/ice9/free_resources_article_thumb/Fully_connected_Recurrent_Neural_Network.gif'>"
   ]
  },
  {
   "cell_type": "markdown",
   "metadata": {},
   "source": [
    "- \"x\" is the input layer, \"h\" is the hidden layer, and \"y\" is the output layer\n",
    "- \"A\",\"B\",\"C\" $\\rightarrow$ Network parameters used to improve the models\n",
    "    - At time \"t\" : \n",
    "        - Current Input $\\rightarrow$ Combination of input at x(t) and x(t-1)\n",
    "        - Output at any given time is fetched back to the network to improve on the output"
   ]
  },
  {
   "cell_type": "markdown",
   "metadata": {},
   "source": [
    "### Problem with using Simple RNN for text generation"
   ]
  },
  {
   "cell_type": "markdown",
   "metadata": {},
   "source": [
    "- Vanishing Gradient Problem \n",
    "    - Arises when there is large sequence of data and/or there is multiple hidden layers in RNN\n",
    "    - Activation Function such as Sigmoid Function squishes a large input space into a small input space between 0 and 1; so, large change in input causes small change in the output\n",
    "    - Gradients carry information used in the RNN parameter update and when it becomes smaller and smaller, the parameter updates become insignificant and no real learning is done\n",
    "- To circumvent $\\rightarrow$ LSTM architecture  "
   ]
  },
  {
   "cell_type": "markdown",
   "metadata": {},
   "source": [
    "## LSTM"
   ]
  },
  {
   "cell_type": "markdown",
   "metadata": {},
   "source": [
    "- Advanced version of RNN architecture to model Sequential data and their long-range dependencies better than conventional RNN\n",
    "- Hidden layer consisting of a gated cell which has four layers that interact with one another to produce the output of the cell along with its state\n",
    "- Gates limits the information that is passed through the cell and helps to determine which part of the information will be needed by the next cell and which part is to be discarded\n",
    "<img src = 'https://www.mdpi.com/remotesensing/remotesensing-12-00256/article_deploy/html/images/remotesensing-12-00256-g003.png' width = '400' height ='400'>"
   ]
  },
  {
   "cell_type": "markdown",
   "metadata": {},
   "source": [
    "### Architecture of LSTM "
   ]
  },
  {
   "cell_type": "markdown",
   "metadata": {},
   "source": [
    "- At time \"t\" $\\rightarrow$ input vector $[h(t-1),x(t)]$ ; network cell state [c(t)] ; output vector [h(t)]\n",
    "- Hyperbolic tangent and Sigmoid activation functions\n",
    "- 3 gates control the cell states\n",
    "    - Forget Gate $\\rightarrow$ Controls what information in the cell state to forget given new information that entered the network <img src = 'https://miro.medium.com/max/711/1*PJ5atpFStpNWE_XpB4e8qQ.png' width = 300 height ='300'>\n",
    "    - Input Gate $\\rightarrow$ Controls what new information will be encoded into the cell state, given the new input information <img src = 'https://miro.medium.com/max/698/1*pAzAFns1ccuHmBvCqwh3Fg.png' width = 300 height ='300'>\n",
    "    - Output Gate $\\rightarrow$ Controls what information encoded in the cell state is sent to the network as input in the following time step via output vector h(t) <img src = 'https://miro.medium.com/max/715/1*wXoU29bsWxi1WQ0DUAnK7g.png' width = 300 height ='300'>"
   ]
  },
  {
   "cell_type": "markdown",
   "metadata": {},
   "source": [
    "### How it handles the vanishing gradient problem "
   ]
  },
  {
   "cell_type": "markdown",
   "metadata": {},
   "source": [
    "Gradient contains the forget gate's activation that allows the LSTM to decide, at each time step, that certain information should not be forgotten and to update the model’s parameters accordingly"
   ]
  },
  {
   "cell_type": "markdown",
   "metadata": {},
   "source": [
    "### How LSTM was implemented\n",
    "Using the Keras Sequential API "
   ]
  },
  {
   "cell_type": "code",
   "execution_count": null,
   "metadata": {},
   "outputs": [],
   "source": [
    "from keras.models import Sequential\n",
    "from keras.layers import LSTM, Dense, Dropout, Masking, Embedding\n",
    "\n",
    "model = Sequential()\n",
    "\n",
    "# Embedding layer\n",
    "model.add(Embedding(#parameters))\n",
    "\n",
    "# Recurrent layer\n",
    "model.add(LSTM(#parameters))\n",
    "\n",
    "# Fully connected layer\n",
    "model.add(Dense(#parameter,\n",
    "                activation='relu'))\n",
    "\n",
    "# Dropout for regularization\n",
    "model.add(Dropout(#value))\n",
    "\n",
    "# Output layer\n",
    "model.add(Dense(#parameter,\n",
    "                activation='softmax'))\n",
    "\n",
    "# Compile the model\n",
    "model.compile(optimizer='adam', loss='categorical_crossentropy', metrics=['accuracy'])"
   ]
  },
  {
   "cell_type": "markdown",
   "metadata": {},
   "source": [
    "- `Embedding` maps each input word to a n dimensional vector\n",
    "- `LSTM` cells; Since we are using 2 LSTM layer, return sequences is kept \n",
    "- Fully-connected `Dense` layer with `relu` activation; Adds additional representational capacity to the network\n",
    "- `Dropout` layer to prevent overfitting to the training data\n",
    "- `Dense` fully-connected output layer; Produces a probability for every word in the vocab using `softmax` activation\n",
    "- Compiled using `Adam` optimizer (a variant on Stochastic Gradient Descent) and trained using the `categorical_crossentropy` loss function"
   ]
  },
  {
   "cell_type": "markdown",
   "metadata": {},
   "source": [
    "# Preprocessing the data"
   ]
  },
  {
   "cell_type": "markdown",
   "metadata": {},
   "source": [
    "Import the txt files and convert all the characters into lowercase"
   ]
  },
  {
   "cell_type": "code",
   "execution_count": 19,
   "metadata": {},
   "outputs": [],
   "source": [
    "filename = \"./data/alice_in_wonderland.txt\"\n",
    "raw_text = open(filename, 'r', encoding='utf-8').read()\n",
    "raw_text = raw_text.lower()"
   ]
  },
  {
   "cell_type": "markdown",
   "metadata": {},
   "source": [
    "To make the data be ready to fit the model, it must be converted to integer. <br>\n",
    "At first, create a set of all of the distinct characters in the book, then creating a map of each character to a unique integer."
   ]
  },
  {
   "cell_type": "code",
   "execution_count": 10,
   "metadata": {},
   "outputs": [],
   "source": [
    "chars = sorted(list(set(raw_text)))\n",
    "char_to_int = dict((c, i) for i, c in enumerate(chars))"
   ]
  },
  {
   "cell_type": "markdown",
   "metadata": {},
   "source": [
    "To define the training data, we decided to split up the text into subsequences of an arbitrary length. The lenght that was chosen was 100. <br>\n",
    "We use sliding window along the text one character at a time, to allow each character to learn from the 100 preceding characters."
   ]
  },
  {
   "cell_type": "code",
   "execution_count": 20,
   "metadata": {},
   "outputs": [
    {
     "name": "stdout",
     "output_type": "stream",
     "text": [
      "Total Patterns:144330\n"
     ]
    }
   ],
   "source": [
    "seq_length = 100\n",
    "dataX = []\n",
    "dataY = []\n",
    "for i in range(0, n_chars - seq_length, 1):\n",
    "    seq_in = raw_text[i:i + seq_length]\n",
    "    seq_out = raw_text[i + seq_length]\n",
    "    dataX.append([char_to_int[char] for char in seq_in])\n",
    "    dataY.append(char_to_int[seq_out])\n",
    "n_patterns = len(dataX)\n",
    "print (f\"Total Patterns:{n_patterns}\")"
   ]
  },
  {
   "cell_type": "markdown",
   "metadata": {},
   "source": [
    "The training patterns is obtained. <br>\n",
    "To transform it to be suitable for use with Keras, transform the input list into form expected by LSTM network. <br> \n",
    "After that, rescale the integer to the range of 0-to-1 to make it easier to learn by the LSTM network which uses sigmoid activation function.<br>\n",
    "At the end, convert the output patterns into a one hot encoding to predict the probability of eah of the character in the vocabulary."
   ]
  },
  {
   "cell_type": "code",
   "execution_count": 25,
   "metadata": {},
   "outputs": [],
   "source": [
    "import numpy as np\n",
    "from keras.utils import np_utils"
   ]
  },
  {
   "cell_type": "code",
   "execution_count": 26,
   "metadata": {},
   "outputs": [],
   "source": [
    "# reshape X to be [samples, time steps, features]\n",
    "X = np.reshape(dataX, (n_patterns, seq_length, 1))\n",
    "# normalize\n",
    "X = X / float(n_vocab)\n",
    "# one hot encode the output variable\n",
    "y = np_utils.to_categorical(dataY)"
   ]
  },
  {
   "cell_type": "code",
   "execution_count": 27,
   "metadata": {},
   "outputs": [
    {
     "data": {
      "text/plain": [
       "array([[0., 0., 0., 0., 0., 0., 0., 0., 0., 0., 0., 0., 0., 0., 0., 0.,\n",
       "        0., 0., 0., 0., 0., 0., 0., 0., 0., 0., 0., 0., 0., 0., 0., 0.,\n",
       "        0., 1., 0., 0., 0., 0., 0., 0., 0., 0., 0., 0., 0.],\n",
       "       [0., 0., 0., 0., 0., 0., 0., 0., 0., 0., 0., 0., 0., 0., 0., 0.,\n",
       "        0., 0., 0., 0., 0., 0., 0., 0., 0., 0., 0., 0., 0., 0., 0., 0.,\n",
       "        0., 0., 0., 0., 0., 0., 0., 0., 0., 1., 0., 0., 0.],\n",
       "       [0., 0., 0., 0., 0., 0., 0., 0., 0., 0., 0., 0., 0., 0., 0., 0.,\n",
       "        0., 0., 0., 0., 0., 0., 0., 0., 0., 0., 0., 0., 0., 0., 0., 0.,\n",
       "        1., 0., 0., 0., 0., 0., 0., 0., 0., 0., 0., 0., 0.],\n",
       "       [0., 1., 0., 0., 0., 0., 0., 0., 0., 0., 0., 0., 0., 0., 0., 0.,\n",
       "        0., 0., 0., 0., 0., 0., 0., 0., 0., 0., 0., 0., 0., 0., 0., 0.,\n",
       "        0., 0., 0., 0., 0., 0., 0., 0., 0., 0., 0., 0., 0.],\n",
       "       [0., 0., 0., 0., 0., 0., 0., 0., 0., 0., 0., 0., 0., 0., 0., 0.,\n",
       "        0., 0., 0., 0., 0., 0., 0., 0., 0., 0., 0., 0., 0., 0., 0., 0.,\n",
       "        0., 0., 0., 0., 0., 0., 1., 0., 0., 0., 0., 0., 0.],\n",
       "       [0., 0., 0., 0., 0., 0., 0., 0., 0., 0., 0., 0., 0., 0., 0., 0.,\n",
       "        0., 0., 0., 0., 0., 0., 0., 0., 0., 0., 1., 0., 0., 0., 0., 0.,\n",
       "        0., 0., 0., 0., 0., 0., 0., 0., 0., 0., 0., 0., 0.],\n",
       "       [0., 0., 0., 0., 0., 0., 0., 0., 0., 0., 0., 0., 0., 0., 0., 0.,\n",
       "        0., 0., 0., 0., 0., 0., 0., 1., 0., 0., 0., 0., 0., 0., 0., 0.,\n",
       "        0., 0., 0., 0., 0., 0., 0., 0., 0., 0., 0., 0., 0.],\n",
       "       [0., 1., 0., 0., 0., 0., 0., 0., 0., 0., 0., 0., 0., 0., 0., 0.,\n",
       "        0., 0., 0., 0., 0., 0., 0., 0., 0., 0., 0., 0., 0., 0., 0., 0.,\n",
       "        0., 0., 0., 0., 0., 0., 0., 0., 0., 0., 0., 0., 0.],\n",
       "       [0., 0., 0., 0., 0., 0., 0., 0., 0., 0., 0., 0., 0., 0., 0., 0.,\n",
       "        0., 0., 0., 0., 0., 0., 0., 0., 0., 0., 0., 0., 0., 0., 0., 0.,\n",
       "        0., 0., 0., 0., 1., 0., 0., 0., 0., 0., 0., 0., 0.],\n",
       "       [0., 0., 0., 0., 0., 0., 0., 0., 0., 0., 0., 0., 0., 0., 0., 0.,\n",
       "        0., 0., 0., 1., 0., 0., 0., 0., 0., 0., 0., 0., 0., 0., 0., 0.,\n",
       "        0., 0., 0., 0., 0., 0., 0., 0., 0., 0., 0., 0., 0.]],\n",
       "      dtype=float32)"
      ]
     },
     "execution_count": 27,
     "metadata": {},
     "output_type": "execute_result"
    }
   ],
   "source": [
    "y[:10]"
   ]
  }
 ],
 "metadata": {
  "kernelspec": {
   "display_name": "Python 3",
   "language": "python",
   "name": "python3"
  },
  "language_info": {
   "codemirror_mode": {
    "name": "ipython",
    "version": 3
   },
   "file_extension": ".py",
   "mimetype": "text/x-python",
   "name": "python",
   "nbconvert_exporter": "python",
   "pygments_lexer": "ipython3",
   "version": "3.7.6"
  }
 },
 "nbformat": 4,
 "nbformat_minor": 4
}
